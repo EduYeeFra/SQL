{
  "nbformat": 4,
  "nbformat_minor": 0,
  "metadata": {
    "colab": {
      "provenance": [],
      "authorship_tag": "ABX9TyNhealiapkl4fMVdKhjP+TI",
      "include_colab_link": true
    },
    "kernelspec": {
      "name": "python3",
      "display_name": "Python 3"
    },
    "language_info": {
      "name": "python"
    }
  },
  "cells": [
    {
      "cell_type": "markdown",
      "metadata": {
        "id": "view-in-github",
        "colab_type": "text"
      },
      "source": [
        "<a href=\"https://colab.research.google.com/github/EduYeeFra/SQL/blob/main/SQL_course.ipynb\" target=\"_parent\"><img src=\"https://colab.research.google.com/assets/colab-badge.svg\" alt=\"Open In Colab\"/></a>"
      ]
    },
    {
      "cell_type": "markdown",
      "source": [
        "#Introduction to SQL\n",
        "\n"
      ],
      "metadata": {
        "id": "uhSSI91-AKCO"
      }
    },
    {
      "cell_type": "markdown",
      "source": [
        "## What is SQL?\n",
        "\n",
        "Structured Query Language also known as SQL is a standardized programming language that is used to manage relational databases and perform various operations on the data in them.\n",
        "\n",
        "Types of SQL commands\n",
        "\n",
        "* DDL(Data Definition Language): To make/perform changes to the physical structure of any table residing inside a database, DDL is used. These commands when executed are auto-commit in nature and all the changes in the table are reflected and saved immediately.\n",
        "\n",
        "* DML(Data Manipulation Language): Once the tables are created and the database is generated using DDL commands, manipulation inside those tables and databases is done using DML commands. The advantage of using DML commands is, that if in case any wrong changes or values are made, they can be changed and rolled back easily.\n",
        "\n",
        "* DQL(Data Query Language): Data query language consists of only one command upon which data selection in SQL relies. The SELECT command in combination with other SQL clauses is used to retrieve and fetch data from databases/tables based on certain conditions applied by the user.\n",
        "\n",
        "* DCL(Data Control Language): DCL commands as the name suggests manage the matters and issues related to the data controller in any database. DCL includes commands such as GRANT and REVOKE which mainly deal with the rights, permissions, and other controls of the database system.\n",
        "\n",
        "* TCL(Transaction Control Language): Transaction Control Language as the name suggests manages the issues and matters related to the transactions in any database. They are used to roll back or commit the changes in the database."
      ],
      "metadata": {
        "id": "NNA8sJl5APfG"
      }
    },
    {
      "cell_type": "markdown",
      "source": [
        "## Purpose of SQL\n",
        "\n",
        "\n",
        "This database language is mainly designed for maintaining the data in relational database management systems. It is a special tool used by data professionals for handling structured data (data that is stored in the form of tables)."
      ],
      "metadata": {
        "id": "eqSU9ukAR-WF"
      }
    },
    {
      "cell_type": "markdown",
      "source": [
        "##Data definition & Data Manipulation\n",
        "\n",
        "SQL commands and syntax\n",
        "\n",
        "Data Definition Language (DDL) commands are also called data definition commands because they are used to define data tables.\n",
        "\n",
        "\n",
        "In SQL DDL commands are used to create and modify the structure of a database and database objects.\n",
        "\n",
        "* CREATE: to create objects in the database.\n",
        "* ALTER: modifies the database structure.\n",
        "* DROP: deletes objects from the database.\n",
        "* TRUNCATE: removes all records from the table, including all spaces allocated to the records.\n",
        "\n",
        "\n",
        "Data Manipulation Language (DML) commands are used to manipulate data in existing tables by adding, changing or removing data. Unlike DDL commands that define how data is stored, DML commands operate in the tables defined with DDL commands.\n",
        "\n",
        "\n",
        "* SELECT: to get data from a database.\n",
        "* INSERT: to insert data into a table.\n",
        "* UPDATE: to modify existing data within a table.\n",
        "* DELETE: deletes all records from the table; do not delete spaces assigned to records."
      ],
      "metadata": {
        "id": "UEHPBldMSBbE"
      }
    },
    {
      "cell_type": "markdown",
      "source": [
        "##SQL Application\n"
      ],
      "metadata": {
        "id": "htqbrJOMSDRe"
      }
    },
    {
      "cell_type": "code",
      "source": [
        "# Import library\n",
        "import sqlite3\n",
        "\n",
        "#Connect to an SQLite database\n",
        "conn = sqlite3.connect(':memory:')"
      ],
      "metadata": {
        "id": "8axr151xAJ1T"
      },
      "execution_count": 1,
      "outputs": []
    },
    {
      "cell_type": "code",
      "source": [
        "c = conn.cursor()\n",
        "\n",
        "c.execute(\n",
        "    '''\n",
        "    CREATE TABLE Classmates\n",
        "    (PersonID, LastName, FirstName, Phone, Residence)\n",
        "    '''\n",
        ")"
      ],
      "metadata": {
        "colab": {
          "base_uri": "https://localhost:8080/"
        },
        "id": "7ZbCJBcjpGaT",
        "outputId": "5ce6d132-9248-4373-99a4-1cc5c7d99ae0"
      },
      "execution_count": 2,
      "outputs": [
        {
          "output_type": "execute_result",
          "data": {
            "text/plain": [
              "<sqlite3.Cursor at 0x7d1be2253740>"
            ]
          },
          "metadata": {},
          "execution_count": 2
        }
      ]
    },
    {
      "cell_type": "markdown",
      "source": [
        "Inserting data into the table"
      ],
      "metadata": {
        "id": "pk3NpwYYrSG0"
      }
    },
    {
      "cell_type": "code",
      "source": [
        "c.execute(\"INSERT INTO Classmates values (516, 'YEE', 'EDUARDO', '5586974589', 'Atizapan'), (517, 'YEE', 'LORENZO', '5586974588', 'Atizapan') \")\n",
        "conn.commit()"
      ],
      "metadata": {
        "id": "s5mRbKKVpjh7"
      },
      "execution_count": 3,
      "outputs": []
    },
    {
      "cell_type": "code",
      "source": [
        "c.execute(\"SELECT * FROM Classmates WHERE LastName = 'YEE'\")\n",
        "\n",
        "print(c.fetchall())"
      ],
      "metadata": {
        "colab": {
          "base_uri": "https://localhost:8080/"
        },
        "id": "iawj0YDEsgWz",
        "outputId": "97821cd7-bfbe-4bca-e382-07b21f0e7c72"
      },
      "execution_count": 4,
      "outputs": [
        {
          "output_type": "stream",
          "name": "stdout",
          "text": [
            "[(516, 'YEE', 'EDUARDO', '5586974589', 'Atizapan'), (517, 'YEE', 'LORENZO', '5586974588', 'Atizapan')]\n"
          ]
        }
      ]
    },
    {
      "cell_type": "code",
      "source": [
        "!pip install ipython-sql"
      ],
      "metadata": {
        "colab": {
          "base_uri": "https://localhost:8080/"
        },
        "id": "oYHi9Ze7tTDk",
        "outputId": "de7bc325-641e-4763-ca66-add70a4f1695"
      },
      "execution_count": 5,
      "outputs": [
        {
          "output_type": "stream",
          "name": "stdout",
          "text": [
            "Requirement already satisfied: ipython-sql in /usr/local/lib/python3.10/dist-packages (0.5.0)\n",
            "Requirement already satisfied: prettytable in /usr/local/lib/python3.10/dist-packages (from ipython-sql) (3.8.0)\n",
            "Requirement already satisfied: ipython in /usr/local/lib/python3.10/dist-packages (from ipython-sql) (7.34.0)\n",
            "Requirement already satisfied: sqlalchemy>=2.0 in /usr/local/lib/python3.10/dist-packages (from ipython-sql) (2.0.20)\n",
            "Requirement already satisfied: sqlparse in /usr/local/lib/python3.10/dist-packages (from ipython-sql) (0.4.4)\n",
            "Requirement already satisfied: six in /usr/local/lib/python3.10/dist-packages (from ipython-sql) (1.16.0)\n",
            "Requirement already satisfied: ipython-genutils in /usr/local/lib/python3.10/dist-packages (from ipython-sql) (0.2.0)\n",
            "Requirement already satisfied: typing-extensions>=4.2.0 in /usr/local/lib/python3.10/dist-packages (from sqlalchemy>=2.0->ipython-sql) (4.5.0)\n",
            "Requirement already satisfied: greenlet!=0.4.17 in /usr/local/lib/python3.10/dist-packages (from sqlalchemy>=2.0->ipython-sql) (2.0.2)\n",
            "Requirement already satisfied: setuptools>=18.5 in /usr/local/lib/python3.10/dist-packages (from ipython->ipython-sql) (67.7.2)\n",
            "Requirement already satisfied: jedi>=0.16 in /usr/local/lib/python3.10/dist-packages (from ipython->ipython-sql) (0.19.0)\n",
            "Requirement already satisfied: decorator in /usr/local/lib/python3.10/dist-packages (from ipython->ipython-sql) (4.4.2)\n",
            "Requirement already satisfied: pickleshare in /usr/local/lib/python3.10/dist-packages (from ipython->ipython-sql) (0.7.5)\n",
            "Requirement already satisfied: traitlets>=4.2 in /usr/local/lib/python3.10/dist-packages (from ipython->ipython-sql) (5.7.1)\n",
            "Requirement already satisfied: prompt-toolkit!=3.0.0,!=3.0.1,<3.1.0,>=2.0.0 in /usr/local/lib/python3.10/dist-packages (from ipython->ipython-sql) (3.0.39)\n",
            "Requirement already satisfied: pygments in /usr/local/lib/python3.10/dist-packages (from ipython->ipython-sql) (2.16.1)\n",
            "Requirement already satisfied: backcall in /usr/local/lib/python3.10/dist-packages (from ipython->ipython-sql) (0.2.0)\n",
            "Requirement already satisfied: matplotlib-inline in /usr/local/lib/python3.10/dist-packages (from ipython->ipython-sql) (0.1.6)\n",
            "Requirement already satisfied: pexpect>4.3 in /usr/local/lib/python3.10/dist-packages (from ipython->ipython-sql) (4.8.0)\n",
            "Requirement already satisfied: wcwidth in /usr/local/lib/python3.10/dist-packages (from prettytable->ipython-sql) (0.2.6)\n",
            "Requirement already satisfied: parso<0.9.0,>=0.8.3 in /usr/local/lib/python3.10/dist-packages (from jedi>=0.16->ipython->ipython-sql) (0.8.3)\n",
            "Requirement already satisfied: ptyprocess>=0.5 in /usr/local/lib/python3.10/dist-packages (from pexpect>4.3->ipython->ipython-sql) (0.7.0)\n"
          ]
        }
      ]
    },
    {
      "cell_type": "code",
      "metadata": {
        "id": "ee0bJxIKPQvK"
      },
      "source": [
        "#Load the SQL extension\n",
        "%load_ext sql\n",
        "\n",
        "#Creat a SQLite database\n",
        "%sql sqlite://"
      ],
      "execution_count": 6,
      "outputs": []
    },
    {
      "cell_type": "code",
      "source": [
        "%%sql\n",
        "CREATE TABLE Classmates (\n",
        "    PersonID int,\n",
        "    LastName varchar(255),\n",
        "    FirstName varchar(255),\n",
        "    Phone int,\n",
        "    Residence varchar(255)\n",
        ");\n",
        "\n",
        "INSERT INTO Classmates VALUES(1, 'YEE', 'EDUARDO', '5586974589', 'Atizapan');\n",
        "INSERT INTO Classmates VALUES(2, 'YEE', 'LORENZO', '5586974588', 'Atizapan');\n",
        "SELECT * From Classmates;"
      ],
      "metadata": {
        "colab": {
          "base_uri": "https://localhost:8080/",
          "height": 170
        },
        "id": "x4Zs-QaLt-xL",
        "outputId": "a51b1e5a-4d63-40ab-cc7a-0ccedf09212a"
      },
      "execution_count": 7,
      "outputs": [
        {
          "output_type": "stream",
          "name": "stdout",
          "text": [
            " * sqlite://\n",
            "Done.\n",
            "1 rows affected.\n",
            "1 rows affected.\n",
            "Done.\n"
          ]
        },
        {
          "output_type": "execute_result",
          "data": {
            "text/plain": [
              "[(1, 'YEE', 'EDUARDO', 5586974589, 'Atizapan'),\n",
              " (2, 'YEE', 'LORENZO', 5586974588, 'Atizapan')]"
            ],
            "text/html": [
              "<table>\n",
              "    <thead>\n",
              "        <tr>\n",
              "            <th>PersonID</th>\n",
              "            <th>LastName</th>\n",
              "            <th>FirstName</th>\n",
              "            <th>Phone</th>\n",
              "            <th>Residence</th>\n",
              "        </tr>\n",
              "    </thead>\n",
              "    <tbody>\n",
              "        <tr>\n",
              "            <td>1</td>\n",
              "            <td>YEE</td>\n",
              "            <td>EDUARDO</td>\n",
              "            <td>5586974589</td>\n",
              "            <td>Atizapan</td>\n",
              "        </tr>\n",
              "        <tr>\n",
              "            <td>2</td>\n",
              "            <td>YEE</td>\n",
              "            <td>LORENZO</td>\n",
              "            <td>5586974588</td>\n",
              "            <td>Atizapan</td>\n",
              "        </tr>\n",
              "    </tbody>\n",
              "</table>"
            ]
          },
          "metadata": {},
          "execution_count": 7
        }
      ]
    },
    {
      "cell_type": "code",
      "metadata": {
        "id": "a5-4ih-ea37Z",
        "outputId": "50a62cf6-ed41-47e0-eef6-ec4886ad4dad",
        "colab": {
          "base_uri": "https://localhost:8080/",
          "height": 92
        }
      },
      "source": [
        "# Example 2\n",
        "# In this example, we will create a table named Customers\n",
        "# with the columns Id, Name, Age, Address, Salary.\n",
        "\n",
        "%%sql\n",
        "CREATE TABLE if not exists Customers(\n",
        "   Id,\n",
        "   Name,\n",
        "   Age,\n",
        "   Address,\n",
        "   Salary\n",
        ");\n",
        "\n",
        "SELECT * From Customers;"
      ],
      "execution_count": 8,
      "outputs": [
        {
          "output_type": "stream",
          "name": "stdout",
          "text": [
            " * sqlite://\n",
            "Done.\n",
            "Done.\n"
          ]
        },
        {
          "output_type": "execute_result",
          "data": {
            "text/plain": [
              "[]"
            ],
            "text/html": [
              "<table>\n",
              "    <thead>\n",
              "        <tr>\n",
              "            <th>Id</th>\n",
              "            <th>Name</th>\n",
              "            <th>Age</th>\n",
              "            <th>Address</th>\n",
              "            <th>Salary</th>\n",
              "        </tr>\n",
              "    </thead>\n",
              "    <tbody>\n",
              "    </tbody>\n",
              "</table>"
            ]
          },
          "metadata": {},
          "execution_count": 8
        }
      ]
    },
    {
      "cell_type": "code",
      "source": [
        "%%sql\n",
        "ALTER TABLE Classmates ADD Gender TEXT;\n",
        "\n",
        "SELECT * FROM Classmates;"
      ],
      "metadata": {
        "colab": {
          "base_uri": "https://localhost:8080/",
          "height": 135
        },
        "id": "mDpxi-4rvKiQ",
        "outputId": "906041df-00a1-4d34-8800-f925b42b4bb2"
      },
      "execution_count": 9,
      "outputs": [
        {
          "output_type": "stream",
          "name": "stdout",
          "text": [
            " * sqlite://\n",
            "Done.\n",
            "Done.\n"
          ]
        },
        {
          "output_type": "execute_result",
          "data": {
            "text/plain": [
              "[(1, 'YEE', 'EDUARDO', 5586974589, 'Atizapan', None),\n",
              " (2, 'YEE', 'LORENZO', 5586974588, 'Atizapan', None)]"
            ],
            "text/html": [
              "<table>\n",
              "    <thead>\n",
              "        <tr>\n",
              "            <th>PersonID</th>\n",
              "            <th>LastName</th>\n",
              "            <th>FirstName</th>\n",
              "            <th>Phone</th>\n",
              "            <th>Residence</th>\n",
              "            <th>Gender</th>\n",
              "        </tr>\n",
              "    </thead>\n",
              "    <tbody>\n",
              "        <tr>\n",
              "            <td>1</td>\n",
              "            <td>YEE</td>\n",
              "            <td>EDUARDO</td>\n",
              "            <td>5586974589</td>\n",
              "            <td>Atizapan</td>\n",
              "            <td>None</td>\n",
              "        </tr>\n",
              "        <tr>\n",
              "            <td>2</td>\n",
              "            <td>YEE</td>\n",
              "            <td>LORENZO</td>\n",
              "            <td>5586974588</td>\n",
              "            <td>Atizapan</td>\n",
              "            <td>None</td>\n",
              "        </tr>\n",
              "    </tbody>\n",
              "</table>"
            ]
          },
          "metadata": {},
          "execution_count": 9
        }
      ]
    },
    {
      "cell_type": "code",
      "source": [
        "%%sql\n",
        "ALTER TABLE Classmates drop column Residence;\n",
        "SELECT * FROM Classmates;"
      ],
      "metadata": {
        "colab": {
          "base_uri": "https://localhost:8080/",
          "height": 135
        },
        "id": "F1kOyfkuvZ1A",
        "outputId": "7a4118b1-ed11-4b52-c746-0b3645464844"
      },
      "execution_count": 10,
      "outputs": [
        {
          "output_type": "stream",
          "name": "stdout",
          "text": [
            " * sqlite://\n",
            "Done.\n",
            "Done.\n"
          ]
        },
        {
          "output_type": "execute_result",
          "data": {
            "text/plain": [
              "[(1, 'YEE', 'EDUARDO', 5586974589, None),\n",
              " (2, 'YEE', 'LORENZO', 5586974588, None)]"
            ],
            "text/html": [
              "<table>\n",
              "    <thead>\n",
              "        <tr>\n",
              "            <th>PersonID</th>\n",
              "            <th>LastName</th>\n",
              "            <th>FirstName</th>\n",
              "            <th>Phone</th>\n",
              "            <th>Gender</th>\n",
              "        </tr>\n",
              "    </thead>\n",
              "    <tbody>\n",
              "        <tr>\n",
              "            <td>1</td>\n",
              "            <td>YEE</td>\n",
              "            <td>EDUARDO</td>\n",
              "            <td>5586974589</td>\n",
              "            <td>None</td>\n",
              "        </tr>\n",
              "        <tr>\n",
              "            <td>2</td>\n",
              "            <td>YEE</td>\n",
              "            <td>LORENZO</td>\n",
              "            <td>5586974588</td>\n",
              "            <td>None</td>\n",
              "        </tr>\n",
              "    </tbody>\n",
              "</table>"
            ]
          },
          "metadata": {},
          "execution_count": 10
        }
      ]
    },
    {
      "cell_type": "code",
      "source": [
        "%%sql\n",
        "ALTER TABLE Classmates RENAME TO Schoolmates;"
      ],
      "metadata": {
        "colab": {
          "base_uri": "https://localhost:8080/"
        },
        "id": "bwfQX-gAwOsR",
        "outputId": "e2ec2c87-fac6-4f18-fb93-bd1b6c78e91d"
      },
      "execution_count": 11,
      "outputs": [
        {
          "output_type": "stream",
          "name": "stdout",
          "text": [
            " * sqlite://\n",
            "Done.\n"
          ]
        },
        {
          "output_type": "execute_result",
          "data": {
            "text/plain": [
              "[]"
            ]
          },
          "metadata": {},
          "execution_count": 11
        }
      ]
    },
    {
      "cell_type": "code",
      "source": [
        "%%sql\n",
        "SELECT PersonID, LastName, Gender FROM Schoolmates;"
      ],
      "metadata": {
        "colab": {
          "base_uri": "https://localhost:8080/",
          "height": 118
        },
        "id": "Ej93xIs7w8-S",
        "outputId": "205eca2c-41d7-466b-af68-ed5011fb0868"
      },
      "execution_count": 12,
      "outputs": [
        {
          "output_type": "stream",
          "name": "stdout",
          "text": [
            " * sqlite://\n",
            "Done.\n"
          ]
        },
        {
          "output_type": "execute_result",
          "data": {
            "text/plain": [
              "[(1, 'YEE', None), (2, 'YEE', None)]"
            ],
            "text/html": [
              "<table>\n",
              "    <thead>\n",
              "        <tr>\n",
              "            <th>PersonID</th>\n",
              "            <th>LastName</th>\n",
              "            <th>Gender</th>\n",
              "        </tr>\n",
              "    </thead>\n",
              "    <tbody>\n",
              "        <tr>\n",
              "            <td>1</td>\n",
              "            <td>YEE</td>\n",
              "            <td>None</td>\n",
              "        </tr>\n",
              "        <tr>\n",
              "            <td>2</td>\n",
              "            <td>YEE</td>\n",
              "            <td>None</td>\n",
              "        </tr>\n",
              "    </tbody>\n",
              "</table>"
            ]
          },
          "metadata": {},
          "execution_count": 12
        }
      ]
    },
    {
      "cell_type": "code",
      "source": [
        "%%sql\n",
        "UPDATE Schoolmates\n",
        "SET Gender = 'Male'\n",
        "WHERE LastName = 'YEE';\n",
        "\n",
        "SELECT * FROM Schoolmates;"
      ],
      "metadata": {
        "colab": {
          "base_uri": "https://localhost:8080/",
          "height": 135
        },
        "id": "8XYoCjIoxIGy",
        "outputId": "097cde92-6d53-4fd3-f3c9-cbb92a5e8397"
      },
      "execution_count": 17,
      "outputs": [
        {
          "output_type": "stream",
          "name": "stdout",
          "text": [
            " * sqlite://\n",
            "2 rows affected.\n",
            "Done.\n"
          ]
        },
        {
          "output_type": "execute_result",
          "data": {
            "text/plain": [
              "[(1, 'YEE', 'EDUARDO', 5586974589, 'Male'),\n",
              " (2, 'YEE', 'LORENZO', 5586974588, 'Male')]"
            ],
            "text/html": [
              "<table>\n",
              "    <thead>\n",
              "        <tr>\n",
              "            <th>PersonID</th>\n",
              "            <th>LastName</th>\n",
              "            <th>FirstName</th>\n",
              "            <th>Phone</th>\n",
              "            <th>Gender</th>\n",
              "        </tr>\n",
              "    </thead>\n",
              "    <tbody>\n",
              "        <tr>\n",
              "            <td>1</td>\n",
              "            <td>YEE</td>\n",
              "            <td>EDUARDO</td>\n",
              "            <td>5586974589</td>\n",
              "            <td>Male</td>\n",
              "        </tr>\n",
              "        <tr>\n",
              "            <td>2</td>\n",
              "            <td>YEE</td>\n",
              "            <td>LORENZO</td>\n",
              "            <td>5586974588</td>\n",
              "            <td>Male</td>\n",
              "        </tr>\n",
              "    </tbody>\n",
              "</table>"
            ]
          },
          "metadata": {},
          "execution_count": 17
        }
      ]
    },
    {
      "cell_type": "code",
      "source": [
        "%%sql\n",
        "DELETE FROM Schoolmates WHERE FirstName='LORENZO';\n",
        "SELECT * FROM Schoolmates;"
      ],
      "metadata": {
        "colab": {
          "base_uri": "https://localhost:8080/",
          "height": 114
        },
        "id": "cndXygnBzr2z",
        "outputId": "841ece7e-cd50-43f9-d7b8-4f582615f9b5"
      },
      "execution_count": 19,
      "outputs": [
        {
          "output_type": "stream",
          "name": "stdout",
          "text": [
            " * sqlite://\n",
            "0 rows affected.\n",
            "Done.\n"
          ]
        },
        {
          "output_type": "execute_result",
          "data": {
            "text/plain": [
              "[(1, 'YEE', 'EDUARDO', 5586974589, 'Male')]"
            ],
            "text/html": [
              "<table>\n",
              "    <thead>\n",
              "        <tr>\n",
              "            <th>PersonID</th>\n",
              "            <th>LastName</th>\n",
              "            <th>FirstName</th>\n",
              "            <th>Phone</th>\n",
              "            <th>Gender</th>\n",
              "        </tr>\n",
              "    </thead>\n",
              "    <tbody>\n",
              "        <tr>\n",
              "            <td>1</td>\n",
              "            <td>YEE</td>\n",
              "            <td>EDUARDO</td>\n",
              "            <td>5586974589</td>\n",
              "            <td>Male</td>\n",
              "        </tr>\n",
              "    </tbody>\n",
              "</table>"
            ]
          },
          "metadata": {},
          "execution_count": 19
        }
      ]
    },
    {
      "cell_type": "code",
      "source": [
        "##%%sql\n",
        "##DROP TABLE Classmates"
      ],
      "metadata": {
        "id": "DKPRWQ8mwETL"
      },
      "execution_count": 14,
      "outputs": []
    }
  ]
}